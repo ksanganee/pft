{
 "cells": [
  {
   "cell_type": "code",
   "execution_count": null,
   "metadata": {},
   "outputs": [],
   "source": [
    "import numpy as np\n",
    "import pandas as pd\n",
    "import matplotlib.pyplot as plt"
   ]
  },
  {
   "cell_type": "code",
   "execution_count": null,
   "metadata": {},
   "outputs": [],
   "source": [
    "january_2022 = [0, 185.4, 0, 83, 0, 0, 458.69, 1459.26, 30, 9, 28, 21, 10, 79.94, 0, 246, 25.06, 7, 137.45, 92, 27, 51.89, 3.11, 27, 20, 0, 7, 0.45, 4.53, 39.02, 5.8] #31\n",
    "february_2022 = [0.2, 0, 15.99, 0.01, 0, 96, 4, 4.05, 14, 17, 12.10, 30, 0, 9, 0, 26, 24.29, 42, 11, 2.5, 2, 37, 10, 7, 0, 4, 5, 24] #28\n",
    "march_2022 = [36, 134.67, 16.29, 57, 51.3, 54.29, 35, 9.88, 153, 10, 20, 1433, 12, 7, 27, 102, 30, 24, 18, 3.5, 29.29, 0, 0, 4, 6, 1980, 0, 2, 0, 44, 0] #31\n",
    "april_2022 = [0, 0, 0, 651, 104.26, 0, 0, 0, 0, 0, 0, 0, 0, 0, 0, 0, 0, 0, 529.81, 42, 21, 2960.26, 43, 0, 25, 33, 5, 30, 0, 105, 0] #30\n",
    "may_2022 = [117, 0, 45, 10, 55.13, 70, 40, 75, 24, 18.2, 128, 23, 70, 25, 141.75, 33, 44, 22, 0, 15, 47, 42, 39, 0, 4, 0, 25, 24, 0, 15, 8] #31\n",
    "june_2022 = [35.00, 34, 0, 0, 17, 4, 0, 41, 92.7, 7, 0, 0, 5, 30.27, 11, 6, 17.1, 1053.52, 1, 945.83, 104, 0, 33, 0, 569, 1642.59, 592, 252.15, 0, 0] #30\n",
    "july_2022 = [54.95, 100.16, 35, 4, 19, 19, 7, 715.19, 18, 29, 0, 1439, 16, 5910.92, 31.78, 43, 106.17, 23.05, 8, 23.5, 0, 38, 41, 826.82, 1.55, 6, 15.5, 2149.86, 46, 0, 24] #31\n",
    "august_2022 = [19.5, 25, 29, 9, 2, 16, 249, 0, 514, 0, 294.25, 15, 130.25, 181.7, 3.5, 6.5, 0, 52.65, 20, 10.18, 487.99, 25, 0, 0, 805.82, 110, 42, 4, 46, 42.05, 0] #31\n",
    "september_2022 = [16, 19, 2523.41, 26, 0, 11, 16, 66, 8, 52.62, 34, 34, 212, 1359, 72, 0, 138.25, 165.55, 9, 0, 0, 0, 80, 471.3, 92.67, 74, 7, 12, 122, 2090.25] #30\n",
    "october_2022 = [39, 14, 10, 34, 14, 16, 23, 112.9, 0, 1288, 0, 29, 19, 11, 33, 46, 27, 30, 4, 11, 17, 0, 11, 4, 43, 530.24, 4, 62, 1, 3, 4] #31\n",
    "november_2022 = [35, 0, 101, 26, 76.5, 0, 23, 0, 4, 3, 16, 503.8, 17, 47, 40, 4, 3, 38, 0, 38, 124.71, 56, 4, 162, 75, 34, 0, 5, 7, 4] #30\n",
    "december_2022 = [23, 6, 4, 49, 24, 30, 17, 36, 19, 62, 88, 0, 1207, 0, 0, 0, 0, 14, 613.46, 0, 0, 0, 0, 0, 0, 1656.2, 73, 7, 366.38, 155.58, 122.5] #31"
   ]
  },
  {
   "cell_type": "code",
   "execution_count": null,
   "metadata": {},
   "outputs": [],
   "source": [
    "amounts = pd.DataFrame(january_2022 + february_2022 + march_2022 + april_2022 + may_2022 + june_2022 + july_2022 + august_2022 + september_2022 + october_2022 + november_2022 + december_2022)\n",
    "print(january_2022 + february_2022 + march_2022 + april_2022 + may_2022 + june_2022 + july_2022 + august_2022 + september_2022 + october_2022 + november_2022 + december_2022)"
   ]
  },
  {
   "cell_type": "code",
   "execution_count": null,
   "metadata": {},
   "outputs": [],
   "source": [
    "from sklearn.preprocessing import StandardScaler\n",
    "\n",
    "# Scale the Data\n",
    "scaler = StandardScaler()\n",
    "scaled_amounts = amounts.values\n",
    "scaled_amounts = scaler.fit_transform(amounts.values)"
   ]
  },
  {
   "cell_type": "code",
   "execution_count": null,
   "metadata": {},
   "outputs": [],
   "source": [
    "def create_rnn_dataset(data, lookback=1):\n",
    "    data_x, data_y = [], []\n",
    "    for i in range(len(data)- lookback -1):\n",
    "            a = data[i:(i+ lookback), 0]\n",
    "            data_x.append(a)\n",
    "            data_y.append(data[i + lookback, 0])\n",
    "    return np.array(data_x), np.array(data_y)\n",
    "\n",
    "#lookback for 25 previous days\n",
    "lookback=7\n",
    "\n",
    "#Create X and Y for training\n",
    "train_x, train_y = create_rnn_dataset(scaled_amounts,lookback)\n"
   ]
  },
  {
   "cell_type": "code",
   "execution_count": null,
   "metadata": {},
   "outputs": [],
   "source": [
    "from keras.models import Sequential\n",
    "from keras.layers import SimpleRNN, Dense\n",
    "import tensorflow as tf\n",
    "\n",
    "tf.random.set_seed(3)\n",
    "\n",
    "# Create a Keras Model\n",
    "price_model = Sequential()\n",
    "# Add Simple RNN layer with 32 nodes\n",
    "price_model.add(SimpleRNN(32, input_shape=(1, lookback)))\n",
    "# Add a Dense layer at the end for output\n",
    "price_model.add(Dense(1))\n",
    "\n",
    "# Compile with Adam Optimizer. Optimize for minimum mean square error\n",
    "price_model.compile(loss=\"mean_squared_error\",\n",
    "                    optimizer=\"adam\",\n",
    "                    metrics=[\"mse\"])\n",
    "\n",
    "# Print model summary\n",
    "price_model.summary()"
   ]
  },
  {
   "cell_type": "code",
   "execution_count": null,
   "metadata": {},
   "outputs": [],
   "source": [
    "train_x = np.reshape(train_x, (train_x.shape[0], 1, train_x.shape[1]))"
   ]
  },
  {
   "cell_type": "code",
   "execution_count": null,
   "metadata": {},
   "outputs": [],
   "source": [
    "price_model.fit(train_x, train_y, epochs=200, batch_size=1, verbose=1)"
   ]
  },
  {
   "cell_type": "code",
   "execution_count": null,
   "metadata": {},
   "outputs": [],
   "source": [
    "thisMonthSoFar = np.array([76.5, 0, 53, 27, 63, 10, 0, 5])\n",
    "thisMonthSoFar.shape\n"
   ]
  },
  {
   "cell_type": "code",
   "execution_count": null,
   "metadata": {},
   "outputs": [],
   "source": [
    "scaled_thisMonthSoFar = scaler.transform(thisMonthSoFar.reshape(-1, 1))\n",
    "model_input = np.reshape(scaled_thisMonthSoFar, (scaled_thisMonthSoFar.shape[1], 1, scaled_thisMonthSoFar.shape[0]))\n"
   ]
  },
  {
   "cell_type": "code",
   "execution_count": null,
   "metadata": {},
   "outputs": [],
   "source": [
    "prediction = price_model.predict(model_input)\n",
    "norm_prediction = scaler.inverse_transform(prediction)"
   ]
  },
  {
   "cell_type": "code",
   "execution_count": null,
   "metadata": {},
   "outputs": [],
   "source": [
    "print(norm_prediction)"
   ]
  }
 ],
 "metadata": {
  "kernelspec": {
   "display_name": "everything",
   "language": "python",
   "name": "python3"
  },
  "language_info": {
   "codemirror_mode": {
    "name": "ipython",
    "version": 3
   },
   "file_extension": ".py",
   "mimetype": "text/x-python",
   "name": "python",
   "nbconvert_exporter": "python",
   "pygments_lexer": "ipython3",
   "version": "3.9.16"
  },
  "orig_nbformat": 4,
  "vscode": {
   "interpreter": {
    "hash": "1a861135c452baff45f2a415038bfc8edb6e3af747b14315b411ad5a559647f3"
   }
  }
 },
 "nbformat": 4,
 "nbformat_minor": 2
}
